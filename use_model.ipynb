{
  "nbformat": 4,
  "nbformat_minor": 0,
  "metadata": {
    "colab": {
      "private_outputs": true,
      "provenance": [],
      "authorship_tag": "ABX9TyOtsrvVSKwglZUt6Oc8nFbV",
      "include_colab_link": true
    },
    "kernelspec": {
      "name": "python3",
      "display_name": "Python 3"
    },
    "language_info": {
      "name": "python"
    }
  },
  "cells": [
    {
      "cell_type": "markdown",
      "metadata": {
        "id": "view-in-github",
        "colab_type": "text"
      },
      "source": [
        "<a href=\"https://colab.research.google.com/github/Athugodage/Hyperskill_transliteration/blob/main/use_model.ipynb\" target=\"_parent\"><img src=\"https://colab.research.google.com/assets/colab-badge.svg\" alt=\"Open In Colab\"/></a>"
      ]
    },
    {
      "cell_type": "code",
      "execution_count": null,
      "metadata": {
        "id": "lmEnIDLYDNJT"
      },
      "outputs": [],
      "source": [
        "!pip install transformers"
      ]
    },
    {
      "cell_type": "code",
      "source": [
        "from transformers import pipeline\n",
        "\n",
        "path = 'marcus2000/polish_transliterator2'\n",
        "transliterator = pipeline('text2text-generation', model=path)\n",
        "\n",
        "transliterator(['Dobrosław'])"
      ],
      "metadata": {
        "id": "pKqR9LTsDkB0"
      },
      "execution_count": null,
      "outputs": []
    },
    {
      "cell_type": "code",
      "source": [
        "\n",
        "transliterator(['Dobrosław'])"
      ],
      "metadata": {
        "id": "xTl5UAS5FHyK"
      },
      "execution_count": null,
      "outputs": []
    },
    {
      "cell_type": "code",
      "source": [
        "!pip install datasets"
      ],
      "metadata": {
        "id": "Pv0cD8NFKgHF"
      },
      "execution_count": null,
      "outputs": []
    },
    {
      "cell_type": "code",
      "source": [
        "from datasets import load_dataset\n",
        "\n",
        "dataset = load_dataset('marcus2000/polish_names')"
      ],
      "metadata": {
        "id": "xN03KSq0KiKl"
      },
      "execution_count": null,
      "outputs": []
    },
    {
      "cell_type": "code",
      "source": [
        "for orig in dataset['test']['0']:\n",
        "    res = transliterator([orig])[0]['generated_text']\n",
        "    print(f'Original: {orig}, Anglicized: {res}\\n')"
      ],
      "metadata": {
        "id": "uLtV5dosKnZb"
      },
      "execution_count": null,
      "outputs": []
    }
  ]
}